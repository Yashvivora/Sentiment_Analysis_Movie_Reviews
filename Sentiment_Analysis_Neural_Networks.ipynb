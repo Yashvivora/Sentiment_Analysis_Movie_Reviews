{
  "nbformat": 4,
  "nbformat_minor": 0,
  "metadata": {
    "colab": {
      "provenance": []
    },
    "kernelspec": {
      "name": "python3",
      "display_name": "Python 3"
    },
    "language_info": {
      "name": "python"
    }
  },
  "cells": [
    {
      "cell_type": "code",
      "execution_count": null,
      "metadata": {
        "id": "6vynyKS1Ztvs"
      },
      "outputs": [],
      "source": [
        "import matplotlib.pyplot as plt\n",
        "import os\n",
        "import re\n",
        "import shutil\n",
        "import string\n",
        "import tensorflow as tf\n",
        "from tensorflow.keras import losses\n",
        "from tensorflow.keras import layers\n",
        "import numpy as np"
      ]
    },
    {
      "cell_type": "markdown",
      "source": [
        "Performed Sentimental analysis on movie reviews using\n",
        "Artificial Neural Network with an accuracy of 87%\n"
      ],
      "metadata": {
        "id": "8bwuZ3FlEfoM"
      }
    },
    {
      "cell_type": "code",
      "source": [
        "url='https://ai.stanford.edu/~amaas/data/sentiment/aclImdb_v1.tar.gz'\n",
        "dataset=tf.keras.utils.get_file('aclImdb_v1',url,untar=True,cache_dir='.',cache_subdir='')\n",
        "dataset_dir=os.path.join(os.path.dirname(dataset),'aclImdb')"
      ],
      "metadata": {
        "id": "Y4FCozrxaOKn",
        "colab": {
          "base_uri": "https://localhost:8080/"
        },
        "outputId": "d4078cfa-05ad-4cbe-82ae-e05cf45ec3a9"
      },
      "execution_count": null,
      "outputs": [
        {
          "output_type": "stream",
          "name": "stdout",
          "text": [
            "Downloading data from https://ai.stanford.edu/~amaas/data/sentiment/aclImdb_v1.tar.gz\n",
            "84125825/84125825 [==============================] - 6s 0us/step\n"
          ]
        }
      ]
    },
    {
      "cell_type": "code",
      "source": [
        "os.listdir(dataset_dir)\n",
        "#here we do not need to divide data into train and test.The data is already divided into train and test in different folders"
      ],
      "metadata": {
        "colab": {
          "base_uri": "https://localhost:8080/"
        },
        "id": "6t86qeDXckfm",
        "outputId": "d3145894-155f-4175-ea25-77eaee00cf43"
      },
      "execution_count": null,
      "outputs": [
        {
          "output_type": "execute_result",
          "data": {
            "text/plain": [
              "['imdb.vocab', 'test', 'README', 'imdbEr.txt', 'train']"
            ]
          },
          "metadata": {},
          "execution_count": 3
        }
      ]
    },
    {
      "cell_type": "code",
      "source": [
        "dataset_dir"
      ],
      "metadata": {
        "id": "Yv2K26kJc5C7",
        "outputId": "2629318c-3634-4eca-be47-d3c8566dc717",
        "colab": {
          "base_uri": "https://localhost:8080/",
          "height": 36
        }
      },
      "execution_count": null,
      "outputs": [
        {
          "output_type": "execute_result",
          "data": {
            "text/plain": [
              "'./aclImdb'"
            ],
            "application/vnd.google.colaboratory.intrinsic+json": {
              "type": "string"
            }
          },
          "metadata": {},
          "execution_count": 4
        }
      ]
    },
    {
      "cell_type": "code",
      "source": [
        "train_dir=os.path.join(dataset_dir,'train')\n",
        "os.listdir(train_dir)"
      ],
      "metadata": {
        "colab": {
          "base_uri": "https://localhost:8080/"
        },
        "id": "C4IOw7FoQ4rE",
        "outputId": "5f3415fa-4126-4a8d-b76e-9f91d1f42360"
      },
      "execution_count": null,
      "outputs": [
        {
          "output_type": "execute_result",
          "data": {
            "text/plain": [
              "['urls_neg.txt',\n",
              " 'urls_pos.txt',\n",
              " 'labeledBow.feat',\n",
              " 'urls_unsup.txt',\n",
              " 'pos',\n",
              " 'unsup',\n",
              " 'unsupBow.feat',\n",
              " 'neg']"
            ]
          },
          "metadata": {},
          "execution_count": 5
        }
      ]
    },
    {
      "cell_type": "code",
      "source": [
        "sample_file=os.path.join(train_dir,'pos/0_9.txt')\n",
        "with open(sample_file) as f:\n",
        "  print(f.read())"
      ],
      "metadata": {
        "colab": {
          "base_uri": "https://localhost:8080/"
        },
        "id": "m7VKIpCmRggw",
        "outputId": "7da5d146-486b-4197-e674-7c11525122b2"
      },
      "execution_count": null,
      "outputs": [
        {
          "output_type": "stream",
          "name": "stdout",
          "text": [
            "Bromwell High is a cartoon comedy. It ran at the same time as some other programs about school life, such as \"Teachers\". My 35 years in the teaching profession lead me to believe that Bromwell High's satire is much closer to reality than is \"Teachers\". The scramble to survive financially, the insightful students who can see right through their pathetic teachers' pomp, the pettiness of the whole situation, all remind me of the schools I knew and their students. When I saw the episode in which a student repeatedly tried to burn down the school, I immediately recalled ......... at .......... High. A classic line: INSPECTOR: I'm here to sack one of your teachers. STUDENT: Welcome to Bromwell High. I expect that many adults of my age think that Bromwell High is far fetched. What a pity that it isn't!\n"
          ]
        }
      ]
    },
    {
      "cell_type": "code",
      "source": [
        "#removing directories that are not required\n",
        "remove_dir=os.path.join(train_dir,'unsup')\n",
        "shutil.rmtree(remove_dir)"
      ],
      "metadata": {
        "id": "UqyjjXXfS3Mh"
      },
      "execution_count": null,
      "outputs": []
    },
    {
      "cell_type": "code",
      "source": [
        "os.listdir(train_dir)"
      ],
      "metadata": {
        "colab": {
          "base_uri": "https://localhost:8080/"
        },
        "id": "eN5Z1j3ITJoA",
        "outputId": "65d448a1-4ff9-47ed-d35d-abb04ed609e7"
      },
      "execution_count": null,
      "outputs": [
        {
          "output_type": "execute_result",
          "data": {
            "text/plain": [
              "['urls_neg.txt',\n",
              " 'urls_pos.txt',\n",
              " 'labeledBow.feat',\n",
              " 'urls_unsup.txt',\n",
              " 'pos',\n",
              " 'unsupBow.feat',\n",
              " 'neg']"
            ]
          },
          "metadata": {},
          "execution_count": 8
        }
      ]
    },
    {
      "cell_type": "code",
      "source": [
        "batch_size=32#32 samples/rows/text files per iteration\n",
        "seed=42#it is like random_state field in model building in ML"
      ],
      "metadata": {
        "id": "YReVhLfzTQHY"
      },
      "execution_count": null,
      "outputs": []
    },
    {
      "cell_type": "code",
      "source": [
        "#dataset object.you cannot query it as it is not an enumerable.it also contains label associated with data like they are positive or negative reviews\n",
        "raw_train_ds=tf.keras.utils.text_dataset_from_directory('aclImdb/train',\n",
        "    batch_size=batch_size,\n",
        "                                                        validation_split=0.2,\n",
        "                                                        subset='training',\n",
        "                                                        seed=seed\n",
        ")\n",
        "#2 classes are positive reviews and negative reviews\n",
        "#5000 files for validation dataset and 20,000 files for testing dataset\n",
        "'''validation dataset is required because suppose you build your model and train it for 1000 epochs(without validation dataset) and now test the model with testing dataset and conclude\n",
        "your model is not good so now you will have to change the model and train it again for 1000 epochs.This is is a very tiring and long process,Rather after end of each epoch if you test\n",
        "your model with the validation dataset and print both training and validation losses everytime and understand if the model is overfitting so you can encounter the problem first and wont\n",
        "have to go again with the tedious process.'''"
      ],
      "metadata": {
        "colab": {
          "base_uri": "https://localhost:8080/",
          "height": 122
        },
        "id": "MuPMLVvETYbs",
        "outputId": "c45c205a-cb7b-45a4-b66d-92963bd57a16"
      },
      "execution_count": null,
      "outputs": [
        {
          "output_type": "stream",
          "name": "stdout",
          "text": [
            "Found 25000 files belonging to 2 classes.\n",
            "Using 20000 files for training.\n"
          ]
        },
        {
          "output_type": "execute_result",
          "data": {
            "text/plain": [
              "'validation dataset is required because suppose you build your model and train it for 1000 epochs(without validation dataset) and now test the model with testing dataset and conclude\\nyour model is not good so now you will have to change the model and train it again for 1000 epochs.This is is a very tiring and long process,Rather after end of each epoch if you test\\nyour model with the validation dataset and print both training and validation losses everytime and understand if the model is overfitting so you can encounter the problem first and wont\\nhave to go again with the tedious process.'"
            ],
            "application/vnd.google.colaboratory.intrinsic+json": {
              "type": "string"
            }
          },
          "metadata": {},
          "execution_count": 10
        }
      ]
    },
    {
      "cell_type": "code",
      "source": [
        "for text_batch,label_batch in raw_train_ds.take(1):#take one patch/sample/text file at random from training dataset\n",
        "  for i in range(3):\n",
        "    print('Review ',text_batch.numpy()[i])\n",
        "    print('Label ',label_batch.numpy()[i])"
      ],
      "metadata": {
        "colab": {
          "base_uri": "https://localhost:8080/"
        },
        "id": "vUl21LwmY5nQ",
        "outputId": "2e5bdc65-81f4-4b7e-9b3e-1818f576be52"
      },
      "execution_count": null,
      "outputs": [
        {
          "output_type": "stream",
          "name": "stdout",
          "text": [
            "Review  b'\"Pandemonium\" is a horror movie spoof that comes off more stupid than funny. Believe me when I tell you, I love comedies. Especially comedy spoofs. \"Airplane\", \"The Naked Gun\" trilogy, \"Blazing Saddles\", \"High Anxiety\", and \"Spaceballs\" are some of my favorite comedies that spoof a particular genre. \"Pandemonium\" is not up there with those films. Most of the scenes in this movie had me sitting there in stunned silence because the movie wasn\\'t all that funny. There are a few laughs in the film, but when you watch a comedy, you expect to laugh a lot more than a few times and that\\'s all this film has going for it. Geez, \"Scream\" had more laughs than this film and that was more of a horror film. How bizarre is that?<br /><br />*1/2 (out of four)'\n",
            "Label  0\n",
            "Review  b\"David Mamet is a very interesting and a very un-equal director. His first movie 'House of Games' was the one I liked best, and it set a series of films with characters whose perspective of life changes as they get into complicated situations, and so does the perspective of the viewer.<br /><br />So is 'Homicide' which from the title tries to set the mind of the viewer to the usual crime drama. The principal characters are two cops, one Jewish and one Irish who deal with a racially charged area. The murder of an old Jewish shop owner who proves to be an ancient veteran of the Israeli Independence war triggers the Jewish identity in the mind and heart of the Jewish detective.<br /><br />This is were the flaws of the film are the more obvious. The process of awakening is theatrical and hard to believe, the group of Jewish militants is operatic, and the way the detective eventually walks to the final violent confrontation is pathetic. The end of the film itself is Mamet-like smart, but disappoints from a human emotional perspective.<br /><br />Joe Mantegna and William Macy give strong performances, but the flaws of the story are too evident to be easily compensated.\"\n",
            "Label  0\n",
            "Review  b'Great documentary about the lives of NY firefighters during the worst terrorist attack of all time.. That reason alone is why this should be a must see collectors item.. What shocked me was not only the attacks, but the\"High Fat Diet\" and physical appearance of some of these firefighters. I think a lot of Doctors would agree with me that,in the physical shape they were in, some of these firefighters would NOT of made it to the 79th floor carrying over 60 lbs of gear. Having said that i now have a greater respect for firefighters and i realize becoming a firefighter is a life altering job. The French have a history of making great documentary\\'s and that is what this is, a Great Documentary.....'\n",
            "Label  1\n"
          ]
        }
      ]
    },
    {
      "cell_type": "code",
      "source": [
        "print('Label 0 corresponds to: ',raw_train_ds.class_names[0])\n",
        "print('Label 1 corresponds to: ',raw_train_ds.class_names[1])"
      ],
      "metadata": {
        "colab": {
          "base_uri": "https://localhost:8080/"
        },
        "id": "tqjIjs2ycSer",
        "outputId": "58219519-f122-441d-ef40-24dfac63c2e8"
      },
      "execution_count": null,
      "outputs": [
        {
          "output_type": "stream",
          "name": "stdout",
          "text": [
            "Label 0 corresponds to:  neg\n",
            "Label 1 corresponds to:  pos\n"
          ]
        }
      ]
    },
    {
      "cell_type": "code",
      "source": [
        "raw_val_ds=tf.keras.utils.text_dataset_from_directory('aclImdb/train',\n",
        "    batch_size=batch_size,\n",
        "                                                        validation_split=0.2,\n",
        "                                                        subset='validation',\n",
        "                                                        seed=seed\n",
        ")"
      ],
      "metadata": {
        "colab": {
          "base_uri": "https://localhost:8080/"
        },
        "id": "XV2qsyqPcf6N",
        "outputId": "cb7db86d-297b-4810-8e46-134732d586f4"
      },
      "execution_count": null,
      "outputs": [
        {
          "output_type": "stream",
          "name": "stdout",
          "text": [
            "Found 25000 files belonging to 2 classes.\n",
            "Using 5000 files for validation.\n"
          ]
        }
      ]
    },
    {
      "cell_type": "code",
      "source": [
        "raw_test_ds=tf.keras.utils.text_dataset_from_directory('aclImdb/test',\n",
        "    batch_size=batch_size,\n",
        "\n",
        ")"
      ],
      "metadata": {
        "colab": {
          "base_uri": "https://localhost:8080/"
        },
        "id": "x6hEV4NCcuuC",
        "outputId": "f7a1daf4-b5f7-4657-bf6a-b6e75253d491"
      },
      "execution_count": null,
      "outputs": [
        {
          "output_type": "stream",
          "name": "stdout",
          "text": [
            "Found 25000 files belonging to 2 classes.\n"
          ]
        }
      ]
    },
    {
      "cell_type": "code",
      "source": [
        "sample_file=os.path.join(train_dir,'pos/3_10.txt')\n",
        "t=open(sample_file)\n",
        "a=t.read()\n",
        "a"
      ],
      "metadata": {
        "colab": {
          "base_uri": "https://localhost:8080/",
          "height": 88
        },
        "id": "5gOvP8h_flpH",
        "outputId": "27f20a8f-e42c-4d7b-f36a-b0f9b9334d19"
      },
      "execution_count": null,
      "outputs": [
        {
          "output_type": "execute_result",
          "data": {
            "text/plain": [
              "'\"All the world\\'s a stage and its people actors in it\"--or something like that. Who the hell said that theatre stopped at the orchestra pit--or even at the theatre door? Why is not the audience participants in the theatrical experience, including the story itself?<br /><br />This film was a grand experiment that said: \"Hey! the story is you and it needs more than your attention, it needs your active participation\". \"Sometimes we bring the story to you, sometimes you have to go to the story.\"<br /><br />Alas no one listened, but that does not mean it should not have been said.'"
            ],
            "application/vnd.google.colaboratory.intrinsic+json": {
              "type": "string"
            }
          },
          "metadata": {},
          "execution_count": 15
        }
      ]
    },
    {
      "cell_type": "code",
      "source": [
        "lowercase=tf.strings.lower(a)\n",
        "lowercase"
      ],
      "metadata": {
        "colab": {
          "base_uri": "https://localhost:8080/"
        },
        "id": "VFgDuIHPf1Pi",
        "outputId": "11574372-e59c-42c2-f96f-aa6972165781"
      },
      "execution_count": null,
      "outputs": [
        {
          "output_type": "execute_result",
          "data": {
            "text/plain": [
              "<tf.Tensor: shape=(), dtype=string, numpy=b'\"all the world\\'s a stage and its people actors in it\"--or something like that. who the hell said that theatre stopped at the orchestra pit--or even at the theatre door? why is not the audience participants in the theatrical experience, including the story itself?<br /><br />this film was a grand experiment that said: \"hey! the story is you and it needs more than your attention, it needs your active participation\". \"sometimes we bring the story to you, sometimes you have to go to the story.\"<br /><br />alas no one listened, but that does not mean it should not have been said.'>"
            ]
          },
          "metadata": {},
          "execution_count": 16
        }
      ]
    },
    {
      "cell_type": "code",
      "source": [
        "stripped_html=tf.strings.regex_replace(lowercase,'<br />','')\n",
        "stripped_html"
      ],
      "metadata": {
        "colab": {
          "base_uri": "https://localhost:8080/"
        },
        "id": "PuGZS0IAgC7q",
        "outputId": "125e37e0-1184-4a77-db03-fbab8307648f"
      },
      "execution_count": null,
      "outputs": [
        {
          "output_type": "execute_result",
          "data": {
            "text/plain": [
              "<tf.Tensor: shape=(), dtype=string, numpy=b'\"all the world\\'s a stage and its people actors in it\"--or something like that. who the hell said that theatre stopped at the orchestra pit--or even at the theatre door? why is not the audience participants in the theatrical experience, including the story itself?this film was a grand experiment that said: \"hey! the story is you and it needs more than your attention, it needs your active participation\". \"sometimes we bring the story to you, sometimes you have to go to the story.\"alas no one listened, but that does not mean it should not have been said.'>"
            ]
          },
          "metadata": {},
          "execution_count": 17
        }
      ]
    },
    {
      "cell_type": "code",
      "source": [
        "def custom_standardization(input_data):\n",
        "  lowercase=tf.strings.lower(a)\n",
        "  stripped_html=tf.strings.regex_replace(lowercase,'<br />','')\n",
        "  return tf.strings.regex_replace(stripped_html,'[%s]' % re.escape(string.punctuation),'')#remove all punctuations"
      ],
      "metadata": {
        "id": "o3Yr0Pbxga9d"
      },
      "execution_count": null,
      "outputs": []
    },
    {
      "cell_type": "code",
      "source": [
        "#now to convert words from the reviews to numbers to be used in the mathematical equation of our model\n",
        "#There are 2 ways to do this:\n",
        "#1st way:\n",
        "#Using word vectorizer:We combine all the words from all the reviews/rows/data points/text files and make a list of all the unique words.\n",
        "#You will make a table where the list of unique words would be the columns of the table and each review would be the rows.Now for every word you will count the occurence of that\n",
        "#word in the review.For the words that are not present,their number will be zero.Now these numbers for each unique word will be your input to the neural network.\n",
        "#You will repeat this process for each review.\n",
        "#This way is not used for our neural network in tensorflow"
      ],
      "metadata": {
        "id": "9_L71He0jh7D"
      },
      "execution_count": null,
      "outputs": []
    },
    {
      "cell_type": "code",
      "source": [
        "#This next way is used in our neural network\n",
        "#Word embeddings/Word indexing:We combine all the words from all the reviews/rows/data points/text files and make a list of all the unique words.\n",
        "#You assign any random number ,having any range, to the unique words each.They can be decimals or integers."
      ],
      "metadata": {
        "id": "mD9ALx7uTmGF"
      },
      "execution_count": null,
      "outputs": []
    },
    {
      "cell_type": "code",
      "source": [
        "max_features=10000\n",
        "sequence_length=250\n",
        "vectorize_layer=layers.TextVectorization(standardize=custom_standardization,max_tokens=max_features,output_mode='int',output_sequence_length=sequence_length)"
      ],
      "metadata": {
        "id": "72tzLpA_ZetF"
      },
      "execution_count": null,
      "outputs": []
    },
    {
      "cell_type": "code",
      "source": [
        "train_text=raw_train_ds.map(lambda x,y:x)#train_text contains two columns review and labels.labels contains pos and neg corresponding to the review which is positive or negative\n",
        "vectorize_layer.adapt(train_text)#vectorize the reviews using word embeddings function mentioned in the previous cell"
      ],
      "metadata": {
        "id": "-RVA-b3AaAm1"
      },
      "execution_count": null,
      "outputs": []
    },
    {
      "cell_type": "code",
      "source": [
        "def vectorize_text(text,label):\n",
        "  text=tf.expand_dims(text,-1)#reshaping the dataset\n",
        "  return vectorize_layer(text),label"
      ],
      "metadata": {
        "id": "kDerG5Evd3jX"
      },
      "execution_count": null,
      "outputs": []
    },
    {
      "cell_type": "code",
      "source": [
        "text_batch,label_batch=next(iter(raw_train_ds))\n",
        "first_review,first_label=text_batch[0],label_batch[0]\n",
        "print('Review: ',first_review)\n",
        "print('Label: ',raw_train_ds.class_names[first_label])\n",
        "print('Vectorized review: \\n',vectorize_text(first_review,first_label))"
      ],
      "metadata": {
        "colab": {
          "base_uri": "https://localhost:8080/"
        },
        "id": "ZwG9SFPneP3t",
        "outputId": "21c1fb3b-dbee-4782-809e-ad3cc5044239"
      },
      "execution_count": null,
      "outputs": [
        {
          "output_type": "stream",
          "name": "stdout",
          "text": [
            "Review:  tf.Tensor(b'Great movie - especially the music - Etta James - \"At Last\". This speaks volumes when you have finally found that special someone.', shape=(), dtype=string)\n",
            "Label:  neg\n",
            "Vectorized review: \n",
            " (<tf.Tensor: shape=(250,), dtype=int64, numpy=\n",
            "array([62,  2, 20, 19, 29, 18, 44, 33, 63, 15, 45, 30, 42,  3, 22,  2, 48,\n",
            "        7,  3, 11, 28, 17,  2, 36, 32, 54, 17,  2, 11, 55, 21, 14,  8,  2,\n",
            "       60, 35, 15,  2, 25, 53, 46,  2,  6, 43, 51, 24, 19, 49, 52,  3,  7,\n",
            "       47,  2,  6, 14,  4, 18,  9, 13, 39, 26, 10, 61,  9, 13, 10, 64, 34,\n",
            "       12, 23, 58,  2,  6,  5,  4, 12,  4, 16,  5, 50,  5,  2, 27, 38, 37,\n",
            "       41, 57,  3, 56,  8, 40,  9, 31,  8, 16, 59,  7,  0,  0,  0,  0,  0,\n",
            "        0,  0,  0,  0,  0,  0,  0,  0,  0,  0,  0,  0,  0,  0,  0,  0,  0,\n",
            "        0,  0,  0,  0,  0,  0,  0,  0,  0,  0,  0,  0,  0,  0,  0,  0,  0,\n",
            "        0,  0,  0,  0,  0,  0,  0,  0,  0,  0,  0,  0,  0,  0,  0,  0,  0,\n",
            "        0,  0,  0,  0,  0,  0,  0,  0,  0,  0,  0,  0,  0,  0,  0,  0,  0,\n",
            "        0,  0,  0,  0,  0,  0,  0,  0,  0,  0,  0,  0,  0,  0,  0,  0,  0,\n",
            "        0,  0,  0,  0,  0,  0,  0,  0,  0,  0,  0,  0,  0,  0,  0,  0,  0,\n",
            "        0,  0,  0,  0,  0,  0,  0,  0,  0,  0,  0,  0,  0,  0,  0,  0,  0,\n",
            "        0,  0,  0,  0,  0,  0,  0,  0,  0,  0,  0,  0,  0,  0,  0,  0,  0,\n",
            "        0,  0,  0,  0,  0,  0,  0,  0,  0,  0,  0,  0])>, <tf.Tensor: shape=(), dtype=int32, numpy=0>)\n"
          ]
        }
      ]
    },
    {
      "cell_type": "code",
      "source": [
        "print('1: ',vectorize_layer.get_vocabulary()[1])\n",
        "# print('67: ',vectorize_layer.get_vocabulary()[67])\n",
        "# print('400: ',vectorize_layer.get_vocabulary()[400])\n",
        "print(len(vectorize_layer.get_vocabulary()))"
      ],
      "metadata": {
        "colab": {
          "base_uri": "https://localhost:8080/"
        },
        "id": "jAQfogj2f-fR",
        "outputId": "daf5a2b0-53f5-4c1e-bb64-55d805a2cd71"
      },
      "execution_count": null,
      "outputs": [
        {
          "output_type": "stream",
          "name": "stdout",
          "text": [
            "1:  [UNK]\n",
            "65\n"
          ]
        }
      ]
    },
    {
      "cell_type": "code",
      "source": [
        "#dataset object\n",
        "raw_train_ds = tf.keras.utils.text_dataset_from_directory('aclImdb/train',\n",
        "    batch_size=batch_size,\n",
        "    validation_split=0.2,\n",
        "    subset='training',\n",
        "    seed=seed)\n",
        "\n",
        "#the take(1) method takes 1 batch from the dataset\n",
        "for text_batch, label_batch in raw_train_ds.take(1):\n",
        "    for i in range(3):\n",
        "        print(\"Review\", text_batch.numpy()[i])\n",
        "        #When you use .numpy() on a TensorFlow tensor, you are converting the tensor to a NumPy array\n",
        "        print(\"Label\", label_batch.numpy()[i])\n",
        "\n",
        "raw_val_ds = tf.keras.utils.text_dataset_from_directory(\n",
        "    'aclImdb/train',\n",
        "    batch_size=batch_size,\n",
        "    validation_split=0.2,\n",
        "    subset='validation',\n",
        "    seed=seed)\n",
        "\n",
        "raw_test_ds = tf.keras.utils.text_dataset_from_directory(\n",
        "    'aclImdb/test',\n",
        "    batch_size=batch_size)\n",
        "\n",
        "def custom_standardization(input_data):\n",
        "    lowercase = tf.strings.lower(input_data)\n",
        "    stripped_html = tf.strings.regex_replace(lowercase, '<br />', ' ')\n",
        "    return tf.strings.regex_replace(stripped_html,'[%s]' % re.escape(string.punctuation),'')\n",
        "\n",
        "max_features = 10000\n",
        "sequence_length = 250\n",
        "\n",
        "vectorize_layer = layers.TextVectorization(\n",
        "    standardize=custom_standardization,\n",
        "    max_tokens=max_features,\n",
        "    output_mode='int',\n",
        "    output_sequence_length=sequence_length)\n",
        "\n",
        "# Make a text-only dataset (without labels), then call adapt\n",
        "train_text = raw_train_ds.map(lambda x, y: x)\n",
        "vectorize_layer.adapt(train_text)\n",
        "\n",
        "\n",
        "# a function to see how the above vectorization is happening\n",
        "def vectorize_text(text, label):\n",
        "    text = tf.expand_dims(text, -1)\n",
        "    return vectorize_layer(text), label\n",
        "\n",
        "print(\" 1 ---> \",vectorize_layer.get_vocabulary()[1])\n",
        "print(\" 2 ---> \",vectorize_layer.get_vocabulary()[2])\n",
        "print(\" 3 ---> \",vectorize_layer.get_vocabulary()[3])\n",
        "print(\"400 ---> \",vectorize_layer.get_vocabulary()[400])\n",
        "print(\"5000 ---> \",vectorize_layer.get_vocabulary()[5000])\n",
        "print(\"8000 ---> \",vectorize_layer.get_vocabulary()[8000])\n",
        "print('Vocabulary size: {}'.format(len(vectorize_layer.get_vocabulary())))\n",
        "\n"
      ],
      "metadata": {
        "colab": {
          "base_uri": "https://localhost:8080/"
        },
        "id": "tJB0hduJlmwR",
        "outputId": "29a17598-2205-4528-9394-6efea20fa0d1"
      },
      "execution_count": null,
      "outputs": [
        {
          "output_type": "stream",
          "name": "stdout",
          "text": [
            "Found 25000 files belonging to 2 classes.\n",
            "Using 20000 files for training.\n",
            "Review b'\"Pandemonium\" is a horror movie spoof that comes off more stupid than funny. Believe me when I tell you, I love comedies. Especially comedy spoofs. \"Airplane\", \"The Naked Gun\" trilogy, \"Blazing Saddles\", \"High Anxiety\", and \"Spaceballs\" are some of my favorite comedies that spoof a particular genre. \"Pandemonium\" is not up there with those films. Most of the scenes in this movie had me sitting there in stunned silence because the movie wasn\\'t all that funny. There are a few laughs in the film, but when you watch a comedy, you expect to laugh a lot more than a few times and that\\'s all this film has going for it. Geez, \"Scream\" had more laughs than this film and that was more of a horror film. How bizarre is that?<br /><br />*1/2 (out of four)'\n",
            "Label 0\n",
            "Review b\"David Mamet is a very interesting and a very un-equal director. His first movie 'House of Games' was the one I liked best, and it set a series of films with characters whose perspective of life changes as they get into complicated situations, and so does the perspective of the viewer.<br /><br />So is 'Homicide' which from the title tries to set the mind of the viewer to the usual crime drama. The principal characters are two cops, one Jewish and one Irish who deal with a racially charged area. The murder of an old Jewish shop owner who proves to be an ancient veteran of the Israeli Independence war triggers the Jewish identity in the mind and heart of the Jewish detective.<br /><br />This is were the flaws of the film are the more obvious. The process of awakening is theatrical and hard to believe, the group of Jewish militants is operatic, and the way the detective eventually walks to the final violent confrontation is pathetic. The end of the film itself is Mamet-like smart, but disappoints from a human emotional perspective.<br /><br />Joe Mantegna and William Macy give strong performances, but the flaws of the story are too evident to be easily compensated.\"\n",
            "Label 0\n",
            "Review b'Great documentary about the lives of NY firefighters during the worst terrorist attack of all time.. That reason alone is why this should be a must see collectors item.. What shocked me was not only the attacks, but the\"High Fat Diet\" and physical appearance of some of these firefighters. I think a lot of Doctors would agree with me that,in the physical shape they were in, some of these firefighters would NOT of made it to the 79th floor carrying over 60 lbs of gear. Having said that i now have a greater respect for firefighters and i realize becoming a firefighter is a life altering job. The French have a history of making great documentary\\'s and that is what this is, a Great Documentary.....'\n",
            "Label 1\n",
            "Found 25000 files belonging to 2 classes.\n",
            "Using 5000 files for validation.\n",
            "Found 25000 files belonging to 2 classes.\n",
            " 1 --->  [UNK]\n",
            " 2 --->  the\n",
            " 3 --->  and\n",
            "400 --->  itself\n",
            "5000 --->  depicting\n",
            "8000 --->  almighty\n",
            "Vocabulary size: 10000\n"
          ]
        }
      ]
    },
    {
      "cell_type": "code",
      "source": [
        "train_ds=raw_train_ds.map(vectorize_text)\n",
        "val_ds=raw_val_ds.map(vectorize_text)\n",
        "test_ds=raw_test_ds.map(vectorize_text)"
      ],
      "metadata": {
        "id": "mmSr8U4nl4CR"
      },
      "execution_count": null,
      "outputs": []
    },
    {
      "cell_type": "code",
      "source": [
        "AUTOTUNE=tf.data.AUTOTUNE\n",
        "train_ds=train_ds.cache().prefetch(buffer_size=AUTOTUNE)\n",
        "Val_ds=val_ds.cache().prefetch(buffer_size=AUTOTUNE)\n",
        "test_ds=test_ds.cache().prefetch(buffer_size=AUTOTUNE)"
      ],
      "metadata": {
        "id": "US3Do4RJmQlz"
      },
      "execution_count": null,
      "outputs": []
    },
    {
      "cell_type": "code",
      "source": [
        "embedding_dim=16"
      ],
      "metadata": {
        "id": "_kRqfAzzmw-G"
      },
      "execution_count": null,
      "outputs": []
    },
    {
      "cell_type": "code",
      "source": [
        "model=tf.keras.Sequential([\n",
        "   layers.Embedding(max_features,embedding_dim),\n",
        "   layers.Dropout(0.2),\n",
        "   layers.GlobalAveragePooling1D(),\n",
        "   layers.Dropout(0.2),\n",
        "   layers.Dense(1),\n",
        "])\n",
        "model.summary()\n",
        "#so now this neural network structure is different from the previous neural network structure discussed.Here we have input shape of(1,250) where each review will be a vectorized array\n",
        "#of 250 numbers.Now each value of 250 numbers for one input will have 16(embedding_dim value) weights associated to it so now the input structure is (1,250,16) as each word or\n",
        "#number out of 250 values has 16 weights associated to it.So the structure is 1 row which contains a cell with contains 250 rows and 16 columns.Now in GloablAveragePooling1D\n",
        "#Layer we take average of each 16 columns and get the shape as (1,16) Now in the final layer there is just one element which will be sum of all the 16 columns from before.This will\n",
        "#be probability lying between [0,1] and closer to 0 will be a negative review and vice-versa.embedding_dim is user defined and can contain any value."
      ],
      "metadata": {
        "colab": {
          "base_uri": "https://localhost:8080/"
        },
        "id": "G5YaGahDmzlk",
        "outputId": "1eafc0ed-4464-4a56-fe36-d1ba147a952c"
      },
      "execution_count": null,
      "outputs": [
        {
          "output_type": "stream",
          "name": "stdout",
          "text": [
            "Model: \"sequential\"\n",
            "_________________________________________________________________\n",
            " Layer (type)                Output Shape              Param #   \n",
            "=================================================================\n",
            " embedding (Embedding)       (None, None, 16)          160000    \n",
            "                                                                 \n",
            " dropout (Dropout)           (None, None, 16)          0         \n",
            "                                                                 \n",
            " global_average_pooling1d (  (None, 16)                0         \n",
            " GlobalAveragePooling1D)                                         \n",
            "                                                                 \n",
            " dropout_1 (Dropout)         (None, 16)                0         \n",
            "                                                                 \n",
            " dense (Dense)               (None, 1)                 17        \n",
            "                                                                 \n",
            "=================================================================\n",
            "Total params: 160017 (625.07 KB)\n",
            "Trainable params: 160017 (625.07 KB)\n",
            "Non-trainable params: 0 (0.00 Byte)\n",
            "_________________________________________________________________\n"
          ]
        }
      ]
    },
    {
      "cell_type": "code",
      "source": [
        "model.compile(loss=losses.BinaryCrossentropy(from_logits=True),optimizer='adam',metrics=tf.metrics.BinaryAccuracy(threshold=0.0))\n",
        "#DOUBT:what use it will be of setting threshold zero,all reviews will be marked positive or class 1"
      ],
      "metadata": {
        "id": "3xcOsbGhkfSf"
      },
      "execution_count": null,
      "outputs": []
    },
    {
      "cell_type": "code",
      "source": [
        "epochs=10\n",
        "history=model.fit(train_ds,validation_data=val_ds,epochs=epochs)"
      ],
      "metadata": {
        "colab": {
          "base_uri": "https://localhost:8080/"
        },
        "id": "NfBC6J86k4zi",
        "outputId": "dc112d10-ae7b-488b-93b0-02abcb3bf386"
      },
      "execution_count": null,
      "outputs": [
        {
          "output_type": "stream",
          "name": "stdout",
          "text": [
            "Epoch 1/10\n",
            "625/625 [==============================] - 6s 8ms/step - loss: 0.6650 - binary_accuracy: 0.6880 - val_loss: 0.6162 - val_binary_accuracy: 0.7706\n",
            "Epoch 2/10\n",
            "625/625 [==============================] - 3s 5ms/step - loss: 0.5504 - binary_accuracy: 0.8010 - val_loss: 0.4994 - val_binary_accuracy: 0.8220\n",
            "Epoch 3/10\n",
            "625/625 [==============================] - 3s 5ms/step - loss: 0.4457 - binary_accuracy: 0.8440 - val_loss: 0.4209 - val_binary_accuracy: 0.8466\n",
            "Epoch 4/10\n",
            "625/625 [==============================] - 3s 5ms/step - loss: 0.3795 - binary_accuracy: 0.8652 - val_loss: 0.3745 - val_binary_accuracy: 0.8598\n",
            "Epoch 5/10\n",
            "625/625 [==============================] - 3s 5ms/step - loss: 0.3364 - binary_accuracy: 0.8797 - val_loss: 0.3453 - val_binary_accuracy: 0.8668\n",
            "Epoch 6/10\n",
            "625/625 [==============================] - 3s 5ms/step - loss: 0.3062 - binary_accuracy: 0.8882 - val_loss: 0.3263 - val_binary_accuracy: 0.8722\n",
            "Epoch 7/10\n",
            "625/625 [==============================] - 3s 5ms/step - loss: 0.2820 - binary_accuracy: 0.8971 - val_loss: 0.3131 - val_binary_accuracy: 0.8724\n",
            "Epoch 8/10\n",
            "625/625 [==============================] - 3s 5ms/step - loss: 0.2622 - binary_accuracy: 0.9033 - val_loss: 0.3035 - val_binary_accuracy: 0.8750\n",
            "Epoch 9/10\n",
            "625/625 [==============================] - 3s 5ms/step - loss: 0.2454 - binary_accuracy: 0.9115 - val_loss: 0.2968 - val_binary_accuracy: 0.8776\n",
            "Epoch 10/10\n",
            "625/625 [==============================] - 4s 6ms/step - loss: 0.2323 - binary_accuracy: 0.9164 - val_loss: 0.2920 - val_binary_accuracy: 0.8794\n"
          ]
        }
      ]
    },
    {
      "cell_type": "code",
      "source": [
        "loss,accuracy=model.evaluate(test_ds)\n",
        "print('Loss: ',loss)\n",
        "print('Accuracy: ',accuracy)"
      ],
      "metadata": {
        "colab": {
          "base_uri": "https://localhost:8080/"
        },
        "id": "dWsNdVfUnrCN",
        "outputId": "11e0c64a-5fab-405f-a0f3-6d2b2157dcbc"
      },
      "execution_count": null,
      "outputs": [
        {
          "output_type": "stream",
          "name": "stdout",
          "text": [
            "782/782 [==============================] - 2s 3ms/step - loss: 0.3102 - binary_accuracy: 0.8732\n",
            "Loss:  0.310169517993927\n",
            "Accuracy:  0.8732399940490723\n"
          ]
        }
      ]
    },
    {
      "cell_type": "code",
      "source": [
        "export_model=tf.keras.Sequential([\n",
        "    vectorize_layer,\n",
        "    model,\n",
        "    layers.Activation('sigmoid')\n",
        "])\n",
        "export_model.compile(loss=losses.BinaryCrossentropy(from_logits=False),optimizer='adam',metrics=['accuracy'])\n",
        "loss,accuracy=export_model.evaluate(raw_test_ds)\n",
        "print('Loss: ',loss)\n",
        "print('Accuracy: ',accuracy)"
      ],
      "metadata": {
        "colab": {
          "base_uri": "https://localhost:8080/"
        },
        "id": "2aTxI2HToJzC",
        "outputId": "514f2ddc-1326-4acf-d808-c5cde996bf31"
      },
      "execution_count": null,
      "outputs": [
        {
          "output_type": "stream",
          "name": "stdout",
          "text": [
            "782/782 [==============================] - 3s 4ms/step - loss: 0.3102 - accuracy: 0.8732\n",
            "Loss:  0.31016993522644043\n",
            "Accuracy:  0.8732399940490723\n"
          ]
        }
      ]
    },
    {
      "cell_type": "code",
      "source": [
        "examples=['The movie was great!','The movie was okay.','I hated the movie.','I really want a better movie to watch.']\n",
        "export_model.predict(examples)"
      ],
      "metadata": {
        "colab": {
          "base_uri": "https://localhost:8080/"
        },
        "id": "ZzKqR0GVpJYt",
        "outputId": "ed9a2066-6351-487b-cb55-318208898ba2"
      },
      "execution_count": null,
      "outputs": [
        {
          "output_type": "stream",
          "name": "stdout",
          "text": [
            "1/1 [==============================] - 0s 103ms/step\n"
          ]
        },
        {
          "output_type": "execute_result",
          "data": {
            "text/plain": [
              "array([[0.63824546],\n",
              "       [0.46190187],\n",
              "       [0.49973133],\n",
              "       [0.52188975]], dtype=float32)"
            ]
          },
          "metadata": {},
          "execution_count": 38
        }
      ]
    }
  ]
}